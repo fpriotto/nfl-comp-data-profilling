{
 "cells": [
  {
   "cell_type": "code",
   "execution_count": null,
   "id": "1e7dddd2-4449-432f-9307-1737f0dcd4e2",
   "metadata": {
    "collapsed": true,
    "jupyter": {
     "outputs_hidden": true
    },
    "tags": []
   },
   "outputs": [],
   "source": [
    "#Installing pandas\n",
    "%pip install pandas"
   ]
  },
  {
   "cell_type": "code",
   "execution_count": null,
   "id": "b02ca8b7-7733-4d51-bfc4-ea4dd4f0343d",
   "metadata": {
    "collapsed": true,
    "jupyter": {
     "outputs_hidden": true
    },
    "tags": []
   },
   "outputs": [],
   "source": [
    "#Installing pandas-profiling\n",
    "%pip install pandas-profiling"
   ]
  },
  {
   "cell_type": "code",
   "execution_count": 37,
   "id": "167fb71f-8c44-48f0-ba65-bc9f76d18194",
   "metadata": {},
   "outputs": [],
   "source": [
    "#importing libraries\n",
    "import pandas as pd\n",
    "from pandas_profiling import ProfileReport"
   ]
  },
  {
   "cell_type": "code",
   "execution_count": null,
   "id": "97126868-46fb-4c81-b1d7-2174359be798",
   "metadata": {
    "collapsed": true,
    "jupyter": {
     "outputs_hidden": true
    },
    "tags": []
   },
   "outputs": [],
   "source": [
    "# Generating and exporting profiling for each file\n",
    "\n",
    "import glob\n",
    "path = '../data/games_data/*.csv'\n",
    "for fname in glob.glob(path):\n",
    "    df = pd.read_csv(fname)\n",
    "    profile = ProfileReport(df, title=\"Profiling week1\",html={'style':{'full_width':True}})\n",
    "    profile.to_file(\"../profiling/\" + str(fname.split(\"/\")[-1].strip(\".csv\")) + \".html\")"
   ]
  }
 ],
 "metadata": {
  "kernelspec": {
   "display_name": "Python 3.10.6 64-bit",
   "language": "python",
   "name": "python3"
  },
  "language_info": {
   "codemirror_mode": {
    "name": "ipython",
    "version": 3
   },
   "file_extension": ".py",
   "mimetype": "text/x-python",
   "name": "python",
   "nbconvert_exporter": "python",
   "pygments_lexer": "ipython3",
   "version": "3.10.6"
  },
  "vscode": {
   "interpreter": {
    "hash": "916dbcbb3f70747c44a77c7bcd40155683ae19c65e1c03b4aa3499c5328201f1"
   }
  }
 },
 "nbformat": 4,
 "nbformat_minor": 5
}
